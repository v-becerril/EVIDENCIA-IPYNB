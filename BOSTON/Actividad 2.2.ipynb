{
 "cells": [
  {
   "cell_type": "code",
   "execution_count": 1,
   "id": "d1b60aed",
   "metadata": {},
   "outputs": [],
   "source": [
    "import pandas as pd"
   ]
  },
  {
   "cell_type": "code",
   "execution_count": 2,
   "id": "6e51efef",
   "metadata": {},
   "outputs": [],
   "source": [
    "file_path = \"copia de listings 2.csv\"\n",
    "df = pd.read_csv(file_path)"
   ]
  },
  {
   "cell_type": "code",
   "execution_count": 4,
   "id": "b924edab",
   "metadata": {},
   "outputs": [
    {
     "name": "stdout",
     "output_type": "stream",
     "text": [
      "          id  host_id host_name\n",
      "0          :     4804     Frank\n",
      "1       5506     8229     Terry\n",
      "2       6695     8229     Terry\n",
      "3       8789    26988      Anne\n",
      "4      10811    38997  Michelle\n",
      "5      10813    38997  Michelle\n",
      "6      10986    38997  Michelle\n",
      "7      18711    71783     Lance\n",
      "12     60029   255183  Michelle\n",
      "13     60356    26988      Anne\n",
      "14     67774    26988      Anne\n",
      "17    163941     8229     Terry\n",
      "31    530983    71783     Lance\n",
      "32    533152    71783     Lance\n",
      "33    579605    71783     Lance\n",
      "35    601750    71783     Lance\n",
      "36    601763    71783     Lance\n",
      "44    801680     8229     Terry\n",
      "57   1092093    26988      Anne\n",
      "115  3539510    71783     Lance\n"
     ]
    }
   ],
   "source": [
    "# Seleccionar 5 host_name únicos\n",
    "unique_hosts = df[\"host_name\"].dropna().unique()[:5]\n",
    "filtered_df = df[df[\"host_name\"].isin(unique_hosts)]\n",
    "print(filtered_df[[\"id\", \"host_id\", \"host_name\"]].head(20))\n"
   ]
  },
  {
   "cell_type": "code",
   "execution_count": 6,
   "id": "10ad2e73",
   "metadata": {},
   "outputs": [
    {
     "name": "stdout",
     "output_type": "stream",
     "text": [
      "            id    host_id              host_name  host_since\n",
      "553   16971718  446136994                  Heidi  2022-02-21\n",
      "1482  47890883  386040727                  Evans  2021-01-25\n",
      "1497  48173950  388634902                  Jason  2021-02-15\n",
      "1504  48285608  388391823      Elliott And Layla  2021-02-13\n",
      "1549  48941504  393194522                Manuela  2021-03-18\n",
      "1550  48942888  393194522                Manuela  2021-03-18\n",
      "1551  48952329  393194522                Manuela  2021-03-18\n",
      "1579  49563625  399827239                  Glenn  2021-05-03\n",
      "1595  49959608  386040727                  Evans  2021-01-25\n",
      "1628  50338863  406353986  Cassandra And Michael  2021-06-10\n",
      "1629  50359377  406353986  Cassandra And Michael  2021-06-10\n",
      "1630  50359591  406353986  Cassandra And Michael  2021-06-10\n",
      "1635  50416070  406353986  Cassandra And Michael  2021-06-10\n",
      "1636  50416639  406353986  Cassandra And Michael  2021-06-10\n",
      "1643  50661496  409350031                Tadeusz  2021-06-26\n",
      "1651  50870667  411294872                  Lihua  2021-07-06\n",
      "1653  50879406  407385860                  Lihua  2021-06-15\n",
      "1654  50898388  411294872                  Lihua  2021-07-06\n",
      "1655  50898544  411294872                  Lihua  2021-07-06\n",
      "1656  50898660  411294872                  Lihua  2021-07-06\n"
     ]
    }
   ],
   "source": [
    "# Filtrar hosts que se unieron después de 2020\n",
    "filtered = df[df[\"host_since\"] > \"2020-12-31\"]\n",
    "print(filtered[[\"id\", \"host_id\", \"host_name\", \"host_since\"]].head(20))"
   ]
  },
  {
   "cell_type": "code",
   "execution_count": null,
   "id": "ff63c3ad",
   "metadata": {},
   "outputs": [
    {
     "name": "stdout",
     "output_type": "stream",
     "text": [
      "          id   host_id   host_name host_response_time\n",
      "0          :      4804       Frank       within a day\n",
      "3       8789     26988        Anne       within a day\n",
      "9      40601    174986      Robert       within a day\n",
      "13     60356     26988        Anne       within a day\n",
      "14     67774     26988        Anne       within a day\n",
      "18    184893    887148        Dawn       within a day\n",
      "39    646087   3236611      Ingrid       within a day\n",
      "57   1092093     26988        Anne       within a day\n",
      "73   1682936   8898973      Gianni       within a day\n",
      "74   1692573   8814724       Kelly       within a day\n",
      "75   1721016   7723912       Fiona       within a day\n",
      "76   1724900   7723912       Fiona       within a day\n",
      "80   1819994   9529655     Suzanne       within a day\n",
      "87   2126053  10844648       Janet       within a day\n",
      "92   2378421  12150111  Antoinette       within a day\n",
      "102  2864688    887148        Dawn       within a day\n",
      "126  4000384  10910804      Evelyn       within a day\n",
      "133  4233242    197327     Melissa       within a day\n",
      "142  4410765   9795590     Patrick       within a day\n",
      "169  5049582    197327     Melissa       within a day\n"
     ]
    }
   ],
   "source": [
    "# Filtrar hosts que responden \"a más tardar en 1 día\n",
    "filtered = df[df[\"host_response_time\"] == \"within a day\"]\n",
    "print(filtered[[\"id\", \"host_id\", \"host_name\", \"host_response_time\"]].head(20))"
   ]
  },
  {
   "cell_type": "code",
   "execution_count": 8,
   "id": "d038b151",
   "metadata": {},
   "outputs": [
    {
     "name": "stdout",
     "output_type": "stream",
     "text": [
      "                       id    host_id      host_name\n",
      "0                       :       4804          Frank\n",
      "200               5974886   23856705      Christina\n",
      "400              12372052   21745230          Jurek\n",
      "600              18290558      69587  Boris & Susan\n",
      "800              23651852    9669662         Jasbir\n",
      "1000             29982429      85130         Copley\n",
      "1200             38697559   28299940         Mauryn\n",
      "1400             45844741  366954587          Mario\n",
      "1600             50009772   15583990        Natalia\n",
      "1800             53477851      71783          Lance\n",
      "2000   625824021434996394  107434423     Blueground\n",
      "2200   715658190467254169  107434423     Blueground\n",
      "2400   828386525464240771  275849638           Sean\n",
      "2600   920192802910045769  492835190           Ivan\n",
      "2800   971056828621546341  163848078           Adam\n",
      "3000  1025453548901747932  382451810           Sean\n",
      "3200  1086284791906225107  382451810           Sean\n",
      "3400  1145750495561922282  501999278      RoomPicks\n",
      "3600  1212902723759772095  245199133        Mandana\n",
      "3800  1289108921740189349  107434423     Blueground\n"
     ]
    }
   ],
   "source": [
    "# Filtrar filas en posiciones múltiplos de 200\n",
    "filtered = df.iloc[::200]   # cada 200 filas empezando en 0\n",
    "print(filtered[[\"id\", \"host_id\", \"host_name\"]].head(20))"
   ]
  },
  {
   "cell_type": "code",
   "execution_count": null,
   "id": "ad9fd912",
   "metadata": {},
   "outputs": [
    {
     "name": "stdout",
     "output_type": "stream",
     "text": [
      "        id  host_id   host_name        room_type\n",
      "0        :     4804       Frank  Entire home/apt\n",
      "1     5506     8229       Terry  Entire home/apt\n",
      "2     6695     8229       Terry  Entire home/apt\n",
      "3     8789    26988        Anne  Entire home/apt\n",
      "4    10811    38997    Michelle  Entire home/apt\n",
      "5    10813    38997    Michelle  Entire home/apt\n",
      "6    10986    38997    Michelle  Entire home/apt\n",
      "7    18711    71783       Lance  Entire home/apt\n",
      "8    29765   128280   Elizabeth  Entire home/apt\n",
      "9    40601   174986      Robert     Private room\n",
      "10   45987   205107        Atef  Entire home/apt\n",
      "11   47521   119019     Hermina     Private room\n",
      "12   60029   255183    Michelle     Private room\n",
      "13   60356    26988        Anne  Entire home/apt\n",
      "14   67774    26988        Anne  Entire home/apt\n",
      "15   77681   416912  Christiane     Private room\n",
      "16   77691   119019     Hermina     Private room\n",
      "17  163941     8229       Terry  Entire home/apt\n",
      "18  184893   887148        Dawn  Entire home/apt\n",
      "19  197727   964356        Jill     Private room\n"
     ]
    }
   ],
   "source": [
    "# Filtrar registros que sean \"Entire home/apt\" o \"Private room\n",
    "filtered = df[df[\"room_type\"].isin([\"Entire home/apt\", \"Private room\"])]\n",
    "print(filtered[[\"id\", \"host_id\", \"host_name\", \"room_type\"]].head(20))"
   ]
  },
  {
   "cell_type": "code",
   "execution_count": 12,
   "id": "224564a4",
   "metadata": {},
   "outputs": [
    {
     "name": "stdout",
     "output_type": "stream",
     "text": [
      "        id  host_id   host_name  beds\n",
      "0        :     4804       Frank   1.0\n",
      "1     5506     8229       Terry   1.0\n",
      "2     6695     8229       Terry   2.0\n",
      "3     8789    26988        Anne   2.0\n",
      "4    10811    38997    Michelle   1.0\n",
      "5    10813    38997    Michelle   1.0\n",
      "6    10986    38997    Michelle   1.0\n",
      "7    18711    71783       Lance   3.0\n",
      "8    29765   128280   Elizabeth   1.0\n",
      "9    40601   174986      Robert   1.0\n",
      "10   45987   205107        Atef   1.0\n",
      "11   47521   119019     Hermina   3.0\n",
      "12   60029   255183    Michelle   1.0\n",
      "13   60356    26988        Anne   1.0\n",
      "14   67774    26988        Anne   2.0\n",
      "15   77681   416912  Christiane   1.0\n",
      "16   77691   119019     Hermina   1.0\n",
      "17  163941     8229       Terry   3.0\n",
      "19  197727   964356        Jill   1.0\n",
      "20  197972   965697    Kristina   1.0\n"
     ]
    }
   ],
   "source": [
    "# Filtrar registros con máximo 4 camas\n",
    "filtered = df[df[\"beds\"] <= 4]\n",
    "print(filtered[[\"id\", \"host_id\", \"host_name\", \"beds\"]].head(20))"
   ]
  },
  {
   "cell_type": "code",
   "execution_count": 17,
   "id": "c6772239",
   "metadata": {},
   "outputs": [
    {
     "name": "stdout",
     "output_type": "stream",
     "text": [
      "        id  host_id       host_name host_is_superhost\n",
      "0        :     4804           Frank                 t\n",
      "1     5506     8229           Terry                 t\n",
      "2     6695     8229           Terry                 t\n",
      "3     8789    26988            Anne                 t\n",
      "4    10811    38997        Michelle                 t\n",
      "5    10813    38997        Michelle                 t\n",
      "6    10986    38997        Michelle                 t\n",
      "9    40601   174986          Robert                 t\n",
      "10   45987   205107            Atef                 t\n",
      "13   60356    26988            Anne                 t\n",
      "14   67774    26988            Anne                 t\n",
      "17  163941     8229           Terry                 t\n",
      "19  197727   964356            Jill                 t\n",
      "20  197972   965697        Kristina                 t\n",
      "22  210097  1035747     Maria Elena                 t\n",
      "23  220676  1144302          Howard                 t\n",
      "24  257588  1355344            Meri                 t\n",
      "28  447826  2053557          Hilary                 t\n",
      "38  619142   501427             Joe                 t\n",
      "40  708802  3648427  Gerard Anthony                 t\n"
     ]
    }
   ],
   "source": [
    "# Filtrar registros de superhosts\n",
    "filtered = df[df[\"host_is_superhost\"] == \"t\"]\n",
    "print(filtered[[\"id\", \"host_id\", \"host_name\", \"host_is_superhost\"]].head(20))"
   ]
  },
  {
   "cell_type": "code",
   "execution_count": 19,
   "id": "8b333d78",
   "metadata": {},
   "outputs": [
    {
     "name": "stdout",
     "output_type": "stream",
     "text": [
      "                          listing_url last_scraped  \\\n",
      "0   https://www.airbnb.com/rooms/3781   2025-06-19   \n",
      "1   https://www.airbnb.com/rooms/5506   2025-06-19   \n",
      "2   https://www.airbnb.com/rooms/6695   2025-06-19   \n",
      "3   https://www.airbnb.com/rooms/8789   2025-06-19   \n",
      "4  https://www.airbnb.com/rooms/10811   2025-06-19   \n",
      "\n",
      "                                                name  \\\n",
      "0                          HARBORSIDE-Walk to subway   \n",
      "1     ** Fort Hill Inn Private! Minutes to center!**   \n",
      "2      Fort Hill Inn *Sunny* 1 bedroom, condo duplex   \n",
      "3                Curved Glass Studio/1bd facing Park   \n",
      "4  Bostons Best Rentals -Studio Prestigious Back Bay   \n",
      "\n",
      "                               neighborhood_overview  host_id host_name  \\\n",
      "0  Mostly quiet ( no loud music, no crowed sidewa...     4804     Frank   \n",
      "1  Peaceful, Architecturally interesting, histori...     8229     Terry   \n",
      "2  Peaceful, Architecturally interesting, histori...     8229     Terry   \n",
      "3  Beacon Hill is a historic neighborhood filled ...    26988      Anne   \n",
      "4  A one-square mile neighborhood that is arguabl...    38997  Michelle   \n",
      "\n",
      "                  host_location  host_response_time host_acceptance_rate  \\\n",
      "0  Massachusetts, United States        within a day                  13%   \n",
      "1                    Boston, MA      within an hour                 100%   \n",
      "2                    Boston, MA      within an hour                 100%   \n",
      "3                    Boston, MA        within a day                  38%   \n",
      "4                           NaN  within a few hours                  53%   \n",
      "\n",
      "                                  host_thumbnail_url  ... availability_eoy  \\\n",
      "0  https://a0.muscache.com/im/users/4804/profile_...  ...               93   \n",
      "1  https://a0.muscache.com/im/users/8229/profile_...  ...              103   \n",
      "2  https://a0.muscache.com/im/users/8229/profile_...  ...               93   \n",
      "3  https://a0.muscache.com/im/pictures/user/d7d71...  ...               41   \n",
      "4  https://a0.muscache.com/im/pictures/user/13444...  ...              175   \n",
      "\n",
      "   estimated_occupancy_l365d first_review review_scores_rating  \\\n",
      "0                         58   2015-07-10                 4.96   \n",
      "1                         78   2009-03-21                 4.82   \n",
      "2                         66   2009-08-06                 4.81   \n",
      "3                          0   2014-08-12                 4.69   \n",
      "4                          0   2016-01-09                 4.33   \n",
      "\n",
      "   review_scores_cleanliness  review_scores_communication review_scores_value  \\\n",
      "0                       4.96                         4.96                4.88   \n",
      "1                       4.91                         4.89                4.77   \n",
      "2                       4.85                         4.94                4.72   \n",
      "3                       4.55                         4.97                4.59   \n",
      "4                       4.67                         4.00                4.67   \n",
      "\n",
      "   instant_bookable  calculated_host_listings_count_entire_homes  \\\n",
      "0                 f                                            1   \n",
      "1                 f                                           11   \n",
      "2                 f                                           11   \n",
      "3                 f                                            8   \n",
      "4                 f                                           12   \n",
      "\n",
      "  calculated_host_listings_count_shared_rooms  \n",
      "0                                           0  \n",
      "1                                           0  \n",
      "2                                           0  \n",
      "3                                           0  \n",
      "4                                           0  \n",
      "\n",
      "[5 rows x 39 columns]\n"
     ]
    }
   ],
   "source": [
    "# Seleccionar columnas en posiciones impares\n",
    "filtered = df.iloc[:, 1::2]\n",
    "print(filtered.head())"
   ]
  }
 ],
 "metadata": {
  "kernelspec": {
   "display_name": "Python 3",
   "language": "python",
   "name": "python3"
  },
  "language_info": {
   "codemirror_mode": {
    "name": "ipython",
    "version": 3
   },
   "file_extension": ".py",
   "mimetype": "text/x-python",
   "name": "python",
   "nbconvert_exporter": "python",
   "pygments_lexer": "ipython3",
   "version": "3.13.6"
  }
 },
 "nbformat": 4,
 "nbformat_minor": 5
}
